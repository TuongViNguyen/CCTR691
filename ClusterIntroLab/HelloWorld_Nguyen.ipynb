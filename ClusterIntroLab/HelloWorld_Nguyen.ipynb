{
 "cells": [
  {
   "cell_type": "markdown",
   "id": "c0e8a460-691c-4184-a815-1f9ba7c149aa",
   "metadata": {},
   "source": [
    "# My First Notebook\n",
    "## Subheading \n",
    "### Third Heading \n",
    "First Athena Lab\n",
    "* first \n",
    "    * Second"
   ]
  },
  {
   "cell_type": "code",
   "execution_count": 1,
   "id": "f5b16fa3-3a7a-45c4-a4a5-98f32a532d73",
   "metadata": {
    "tags": []
   },
   "outputs": [
    {
     "name": "stdout",
     "output_type": "stream",
     "text": [
      "Hello World\n"
     ]
    }
   ],
   "source": [
    "print(\"Hello World\")"
   ]
  },
  {
   "cell_type": "code",
   "execution_count": null,
   "id": "80da85d9-a857-415a-a449-1d8ba45e0746",
   "metadata": {},
   "outputs": [],
   "source": []
  }
 ],
 "metadata": {
  "kernelspec": {
   "display_name": "Python 3 (ipykernel)",
   "language": "python",
   "name": "python3"
  },
  "language_info": {
   "codemirror_mode": {
    "name": "ipython",
    "version": 3
   },
   "file_extension": ".py",
   "mimetype": "text/x-python",
   "name": "python",
   "nbconvert_exporter": "python",
   "pygments_lexer": "ipython3",
   "version": "3.11.5"
  }
 },
 "nbformat": 4,
 "nbformat_minor": 5
}
